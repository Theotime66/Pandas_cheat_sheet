{
 "cells": [
  {
   "cell_type": "markdown",
   "id": "9812e05d",
   "metadata": {},
   "source": [
    "# Cheat sheet - Grouping and Sorting"
   ]
  },
  {
   "cell_type": "markdown",
   "id": "a1c2def9",
   "metadata": {},
   "source": [
    "## Groupwise analysis"
   ]
  },
  {
   "cell_type": "code",
   "execution_count": null,
   "id": "5775fe91",
   "metadata": {
    "vscode": {
     "languageId": "plaintext"
    }
   },
   "outputs": [],
   "source": [
    ".groupby()\n",
    ".agg()\n",
    ".agg([len, min, max])"
   ]
  },
  {
   "cell_type": "markdown",
   "id": "265b09ab",
   "metadata": {},
   "source": [
    "## Multi-indexes"
   ]
  },
  {
   "cell_type": "code",
   "execution_count": null,
   "id": "15f6b413",
   "metadata": {
    "vscode": {
     "languageId": "plaintext"
    }
   },
   "outputs": [],
   "source": [
    "\n",
    ".reset_index()"
   ]
  },
  {
   "cell_type": "markdown",
   "id": "b8a6c170",
   "metadata": {},
   "source": [
    "## Sorting"
   ]
  },
  {
   "cell_type": "code",
   "execution_count": null,
   "id": "d93d64b1",
   "metadata": {
    "vscode": {
     "languageId": "plaintext"
    }
   },
   "outputs": [],
   "source": [
    ".sort_values()\n",
    ".sort_values(by='len', ascending=False)\n",
    ".sort_index()\n",
    ".sort_values(by=['country', 'len'])"
   ]
  }
 ],
 "metadata": {
  "language_info": {
   "name": "python"
  }
 },
 "nbformat": 4,
 "nbformat_minor": 5
}
