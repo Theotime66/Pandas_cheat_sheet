{
 "cells": [
  {
   "cell_type": "markdown",
   "id": "9812e05d",
   "metadata": {},
   "source": [
    "# Cheat sheet - Data Types and Missing Values"
   ]
  },
  {
   "cell_type": "markdown",
   "id": "a1c2def9",
   "metadata": {},
   "source": [
    "## Dtypes"
   ]
  },
  {
   "cell_type": "code",
   "execution_count": null,
   "id": "5775fe91",
   "metadata": {
    "vscode": {
     "languageId": "plaintext"
    }
   },
   "outputs": [],
   "source": [
    "reviews.price.dtype\n",
    "reviews.dtypes\n",
    "reviews.points.astype('float64')\n",
    "reviews.index.dtype\n"
   ]
  },
  {
   "cell_type": "markdown",
   "id": "265b09ab",
   "metadata": {},
   "source": [
    "## Missing data"
   ]
  },
  {
   "cell_type": "code",
   "execution_count": null,
   "id": "15f6b413",
   "metadata": {
    "vscode": {
     "languageId": "plaintext"
    }
   },
   "outputs": [],
   "source": [
    "reviews[pd.isnull(reviews.country)]\n",
    "pd.notnull()\n",
    "\n",
    "reviews.region_2.fillna(\"Unknown\")\n",
    "reviews.taster_twitter_handle.replace(\"@kerinokeefe\", \"@kerino\")\n"
   ]
  }
 ],
 "metadata": {
  "language_info": {
   "name": "python"
  }
 },
 "nbformat": 4,
 "nbformat_minor": 5
}
