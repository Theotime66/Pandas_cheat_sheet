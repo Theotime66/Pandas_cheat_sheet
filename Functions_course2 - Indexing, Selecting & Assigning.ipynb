{
 "cells": [
  {
   "cell_type": "markdown",
   "id": "9812e05d",
   "metadata": {},
   "source": [
    "# Cheat sheet - Indexing, Selecting & Assigning"
   ]
  },
  {
   "cell_type": "markdown",
   "id": "a1c2def9",
   "metadata": {},
   "source": [
    "## Native accessors"
   ]
  },
  {
   "cell_type": "code",
   "execution_count": null,
   "id": "5775fe91",
   "metadata": {
    "vscode": {
     "languageId": "plaintext"
    }
   },
   "outputs": [],
   "source": [
    "reviews.country\n",
    "reviews['country']\n",
    "reviews['country'][0]"
   ]
  },
  {
   "cell_type": "markdown",
   "id": "265b09ab",
   "metadata": {},
   "source": [
    "## Indexing in pandas"
   ]
  },
  {
   "cell_type": "code",
   "execution_count": null,
   "id": "15f6b413",
   "metadata": {
    "vscode": {
     "languageId": "plaintext"
    }
   },
   "outputs": [],
   "source": [
    "reviews.iloc[0]\n",
    "reviews.iloc[1:3, 0]\n",
    "\n",
    "reviews.loc[0, 'country']\n",
    "reviews.loc[:, ['taster_name', 'taster_twitter_handle', 'points']]\n",
    "\n",
    "# Difference :\n",
    "# - iloc : Python standard indexing theme = first included last excluded\n",
    "# - loc : fist AND last included"
   ]
  },
  {
   "cell_type": "markdown",
   "id": "246d96f4",
   "metadata": {},
   "source": [
    "## Manipulating the index"
   ]
  },
  {
   "cell_type": "code",
   "execution_count": null,
   "id": "50129c5d",
   "metadata": {
    "vscode": {
     "languageId": "plaintext"
    }
   },
   "outputs": [],
   "source": [
    "reviews.set_index(\"title\")\n",
    "reviews.loc[reviews.country == 'Italy']\n",
    "reviews.loc[(reviews.country == 'Italy') & (reviews.points >= 90)]\n",
    "reviews.loc[(reviews.country == 'Italy') | (reviews.points >= 90)]\n",
    "reviews.loc[reviews.country.isin(['Italy', 'France'])]\n",
    "reviews.loc[reviews.price.notnull()]"
   ]
  },
  {
   "cell_type": "markdown",
   "id": "ea5214b3",
   "metadata": {},
   "source": [
    "## Assigning data"
   ]
  },
  {
   "cell_type": "code",
   "execution_count": null,
   "id": "92fb4ef4",
   "metadata": {
    "vscode": {
     "languageId": "plaintext"
    }
   },
   "outputs": [],
   "source": [
    "reviews['critic'] = 'everyone'\n",
    "reviews['index_backwards'] = range(len(reviews), 0, -1)"
   ]
  }
 ],
 "metadata": {
  "language_info": {
   "name": "python"
  }
 },
 "nbformat": 4,
 "nbformat_minor": 5
}
