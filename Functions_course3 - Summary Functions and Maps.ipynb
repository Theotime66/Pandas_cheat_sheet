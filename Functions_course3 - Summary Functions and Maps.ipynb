{
 "cells": [
  {
   "cell_type": "markdown",
   "id": "9812e05d",
   "metadata": {},
   "source": [
    "# Cheat sheet - Summary Functions and Maps"
   ]
  },
  {
   "cell_type": "markdown",
   "id": "a1c2def9",
   "metadata": {},
   "source": [
    "## Summary functions"
   ]
  },
  {
   "cell_type": "code",
   "execution_count": null,
   "id": "5775fe91",
   "metadata": {
    "vscode": {
     "languageId": "plaintext"
    }
   },
   "outputs": [],
   "source": [
    ".describe()\n",
    ".mean()\n",
    ".unique()\n",
    ".value_counts()\n",
    ".idxmax()"
   ]
  },
  {
   "cell_type": "markdown",
   "id": "265b09ab",
   "metadata": {},
   "source": [
    "## Maps"
   ]
  },
  {
   "cell_type": "code",
   "execution_count": null,
   "id": "15f6b413",
   "metadata": {
    "vscode": {
     "languageId": "plaintext"
    }
   },
   "outputs": [],
   "source": [
    ".map(lambda p: p - review_points_mean) # On a Series\n",
    ".apply() # On a whole dataframe\n",
    "# Doesn't modify the existing dataframe but creates a new one"
   ]
  },
  {
   "cell_type": "code",
   "execution_count": null,
   "id": "b23c4a0d",
   "metadata": {
    "vscode": {
     "languageId": "plaintext"
    }
   },
   "outputs": [],
   "source": [
    "# Examples\n",
    "review_points_mean = reviews.points.mean()\n",
    "reviews.points - review_points_mean\n",
    "\n",
    "reviews.country + \" - \" + reviews.region_1"
   ]
  }
 ],
 "metadata": {
  "language_info": {
   "name": "python"
  }
 },
 "nbformat": 4,
 "nbformat_minor": 5
}
