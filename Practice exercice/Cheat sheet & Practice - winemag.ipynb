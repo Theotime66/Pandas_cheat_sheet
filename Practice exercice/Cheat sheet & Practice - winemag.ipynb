{
 "cells": [
  {
   "cell_type": "markdown",
   "id": "9812e05d",
   "metadata": {},
   "source": [
    "# Cheat sheet : Practice on Pandas - winemag"
   ]
  },
  {
   "cell_type": "markdown",
   "id": "d89f65a4",
   "metadata": {},
   "source": [
    "A Python notebook to practive the Pandas concepts of the course, mainly on the winemag database.\n",
    "This code is handwrited, and taken from the Kaggle Pandas course.\n",
    "It can be used as a cheatsheet, to remember how to use certain Pandas functions, and some examples of what can be done with Pandas."
   ]
  },
  {
   "cell_type": "markdown",
   "id": "e87806d7",
   "metadata": {},
   "source": [
    "# Creating, Reading and Writing"
   ]
  },
  {
   "cell_type": "code",
   "execution_count": null,
   "id": "ce4dab18",
   "metadata": {},
   "outputs": [],
   "source": [
    "import pandas as pd\n",
    "\n",
    "reviews = pd.read_csv('data/winemag-data-130k-v2.csv')"
   ]
  },
  {
   "cell_type": "markdown",
   "id": "edfaa838",
   "metadata": {},
   "source": [
    "# Indexing, Selecting & Assigning"
   ]
  },
  {
   "cell_type": "code",
   "execution_count": null,
   "id": "8a3d506e",
   "metadata": {},
   "outputs": [],
   "source": [
    "reviews.head()"
   ]
  },
  {
   "cell_type": "code",
   "execution_count": null,
   "id": "1f5340e8",
   "metadata": {},
   "outputs": [],
   "source": [
    "# Select the `description` column from `reviews` and assign the result to the variable `desc`.\n",
    "desc = reviews.description"
   ]
  },
  {
   "cell_type": "code",
   "execution_count": null,
   "id": "c4e9840d",
   "metadata": {},
   "outputs": [],
   "source": [
    "# Select the first value from the description column of reviews, assigning it to variable first_description.\n",
    "first_description = desc[0]"
   ]
  },
  {
   "cell_type": "code",
   "execution_count": null,
   "id": "bebe0f2c",
   "metadata": {},
   "outputs": [],
   "source": [
    "# Select the first row of data (the first record) from reviews, assigning it to the variable first_row.\n",
    "first_row = reviews.iloc[0,:]"
   ]
  },
  {
   "cell_type": "code",
   "execution_count": null,
   "id": "ef913cd3",
   "metadata": {},
   "outputs": [],
   "source": [
    "# Select the first 10 values from the description column in reviews, assigning the result to variable first_descriptions.\n",
    "first_description = reviews.loc[0:9, 'description']"
   ]
  },
  {
   "cell_type": "code",
   "execution_count": null,
   "id": "c110ab75",
   "metadata": {},
   "outputs": [],
   "source": [
    "# Select the records with index labels 1, 2, 3, 5, and 8, assigning the result to the variable sample_reviews.\n",
    "sample_reviews = reviews.iloc[[1,2,3,5,8],:]"
   ]
  },
  {
   "cell_type": "code",
   "execution_count": null,
   "id": "cc5d3916",
   "metadata": {},
   "outputs": [],
   "source": [
    "# Create a variable df containing the country, province, region_1, and region_2 columns of the records with the index labels 0, 1, 10, and 100. \n",
    "df = reviews.loc[[0,1,10,100], ['country', 'province', 'region_1', 'region_2']]"
   ]
  },
  {
   "cell_type": "code",
   "execution_count": null,
   "id": "5efdc603",
   "metadata": {},
   "outputs": [],
   "source": [
    "# Create a variable df containing the country and variety columns of the first 100 records.\n",
    "df = reviews.loc[0:99, ['country', 'variety']]"
   ]
  },
  {
   "cell_type": "code",
   "execution_count": null,
   "id": "a6f4a803",
   "metadata": {},
   "outputs": [],
   "source": [
    "# Create a DataFrame italian_wines containing reviews of wines made in Italy. Hint: reviews.country equals what?\n",
    "italian_wines = reviews[reviews.country == 'Italy']"
   ]
  },
  {
   "cell_type": "code",
   "execution_count": null,
   "id": "094726a5",
   "metadata": {},
   "outputs": [],
   "source": [
    "# Create a DataFrame top_oceania_wines containing all reviews with at least 95 points (out of 100) for wines from Australia or New Zealand.\n",
    "top_oceania_wines = reviews[((reviews.country == 'New Zealand')|(reviews.country == 'Australia')) & (reviews.points >= 95)]"
   ]
  },
  {
   "cell_type": "markdown",
   "id": "da747c47",
   "metadata": {},
   "source": [
    "# Summary Functions and Maps"
   ]
  },
  {
   "cell_type": "code",
   "execution_count": null,
   "id": "bfc831bc",
   "metadata": {},
   "outputs": [],
   "source": [
    "# What is the median of the points column in the reviews DataFrame?\n",
    "median_point = reviews.points.median()"
   ]
  },
  {
   "cell_type": "code",
   "execution_count": null,
   "id": "5a8c7ef5",
   "metadata": {},
   "outputs": [],
   "source": [
    "# What countries are represented in the dataset? (Your answer should not include any duplicates.)\n",
    "countries = reviews.country.unique()"
   ]
  },
  {
   "cell_type": "code",
   "execution_count": null,
   "id": "7951998f",
   "metadata": {},
   "outputs": [],
   "source": [
    "# How often does each country appear in the dataset? Create a Series reviews_per_country mapping countries to the count of reviews of wines from that country.\n",
    "reviews_per_country = reviews.country.value_counts()"
   ]
  },
  {
   "cell_type": "code",
   "execution_count": null,
   "id": "53cd3b1d",
   "metadata": {},
   "outputs": [],
   "source": [
    "# Create variable centered_price containing a version of the price column with the mean price subtracted.\n",
    "# (Note: this 'centering' transformation is a common preprocessing step before applying various machine learning algorithms.)\n",
    "centered_price = reviews.price - reviews.price.mean()"
   ]
  },
  {
   "cell_type": "code",
   "execution_count": null,
   "id": "3d0356a8",
   "metadata": {},
   "outputs": [],
   "source": [
    "# I'm an economical wine buyer. Which wine is the \"best bargain\"? Create a variable bargain_wine with the title of the wine with the highest points-to-price ratio in the dataset.\n",
    "reviews['points_to_price'] = reviews.points / reviews.price\n",
    "idmax = reviews.points_to_price.idxmax()\n",
    "bargain_wine = reviews.title.iloc[idmax]"
   ]
  },
  {
   "cell_type": "code",
   "execution_count": null,
   "id": "bb748df4",
   "metadata": {},
   "outputs": [],
   "source": [
    "# There are only so many words you can use when describing a bottle of wine. Is a wine more likely to be \"tropical\" or \"fruity\"? Create a Series descriptor_counts counting how many times each of these two words appears in the description column in the dataset. (For simplicity, let's ignore the capitalized versions of these words.)\n",
    "tropical_count = reviews.description.map(lambda p: 'tropical' in p).sum()\n",
    "fruity_count = reviews.description.map(lambda p: 'fruity' in p).sum()\n",
    "descriptor_count = [tropical_count, fruity_count]"
   ]
  },
  {
   "cell_type": "code",
   "execution_count": null,
   "id": "a4bbac9d",
   "metadata": {},
   "outputs": [],
   "source": [
    "# We'd like to host these wine reviews on our website, but a rating system ranging from 80 to 100 points is too hard to understand - we'd like to translate them into simple star ratings. A score of 95 or higher counts as 3 stars, a score of at least 85 but less than 95 is 2 stars. Any other score is 1 star.\n",
    "# Also, the Canadian Vintners Association bought a lot of ads on the site, so any wines from Canada should automatically get 3 stars, regardless of points.\n",
    "# Create a series star_ratings with the number of stars corresponding to each review in the dataset.\n",
    "def nb_stars(row):\n",
    "    country = row.country\n",
    "    points = row.points\n",
    "    if country == 'Canada':\n",
    "        return 3\n",
    "    elif points >= 95:\n",
    "        return 3\n",
    "    elif (points >= 85) & (points < 95):\n",
    "        return 2\n",
    "    else:\n",
    "        return 1\n",
    "\n",
    "star_ratings = reviews.apply(nb_stars, axis=1)"
   ]
  },
  {
   "cell_type": "markdown",
   "id": "6a7428ed",
   "metadata": {},
   "source": [
    "# Grouping and Sorting"
   ]
  },
  {
   "cell_type": "code",
   "execution_count": null,
   "id": "d2233dcb",
   "metadata": {},
   "outputs": [],
   "source": [
    "# Who are the most common wine reviewers in the dataset? Create a Series whose index is the taster_twitter_handle category from the dataset, and whose values count how many reviews each person wrote.\n",
    "taster_twitter_handle = reviews.groupby('taster_twitter_handle').taster_twitter_handle.count()"
   ]
  },
  {
   "cell_type": "code",
   "execution_count": null,
   "id": "7a3c1af9",
   "metadata": {},
   "outputs": [],
   "source": [
    "# What is the best wine I can buy for a given amount of money? Create a Series whose index is wine prices and whose values is the maximum number of points a wine costing that much was given in a review. Sort the values by price, ascending (so that 4.0 dollars is at the top and 3300.0 dollars is at the bottom).\n",
    "best_rating_per_price = reviews.groupby('price')['points'].max().sort_index()"
   ]
  },
  {
   "cell_type": "code",
   "execution_count": null,
   "id": "d12f2cc7",
   "metadata": {},
   "outputs": [],
   "source": [
    "# What are the minimum and maximum prices for each variety of wine? Create a DataFrame whose index is the variety category from the dataset and whose values are the min and max values thereof.\n",
    "price_extremes = reviews.groupby('variety')['price'].agg([min,max])"
   ]
  },
  {
   "cell_type": "code",
   "execution_count": null,
   "id": "ed16f6da",
   "metadata": {},
   "outputs": [],
   "source": [
    "# What are the most expensive wine varieties? Create a variable sorted_varieties containing a copy of the dataframe from the previous question where varieties are sorted in descending order based on minimum price, then on maximum price (to break ties).\n",
    "sorted_varieties = price_extremes.sort_values(['min', 'max'], ascending=[False, False])"
   ]
  },
  {
   "cell_type": "code",
   "execution_count": null,
   "id": "a613cc9d",
   "metadata": {},
   "outputs": [],
   "source": [
    "# Create a `Series` whose index is reviewers and whose values is the average review score given out by that reviewer. Hint: you will need the `taster_name` and `points` columns.\n",
    "reviewer_mean_ratings = reviews.groupby('taster_name').points.mean()"
   ]
  },
  {
   "cell_type": "code",
   "execution_count": null,
   "id": "95287035",
   "metadata": {},
   "outputs": [],
   "source": [
    "reviewer_mean_ratings.describe()"
   ]
  },
  {
   "cell_type": "code",
   "execution_count": null,
   "id": "ec745b40",
   "metadata": {},
   "outputs": [],
   "source": [
    "# What combination of countries and varieties are most common? Create a Series whose index is a MultiIndexof {country, variety} pairs. For example, a pinot noir produced in the US should map to {\"US\", \"Pinot Noir\"}. Sort the values in the Series in descending order based on wine count.\n",
    "country_variety_counts = reviews.groupby(['country', 'variety']).size().sort_values(ascending=False)"
   ]
  },
  {
   "cell_type": "markdown",
   "id": "0d14e7bb",
   "metadata": {},
   "source": [
    "# Data Types and Missing Values"
   ]
  },
  {
   "cell_type": "code",
   "execution_count": null,
   "id": "c4ca3243",
   "metadata": {},
   "outputs": [],
   "source": [
    "# What is the data type of the points column in the dataset?\n",
    "dtype = reviews.points.dtype"
   ]
  },
  {
   "cell_type": "code",
   "execution_count": null,
   "id": "5fc6e8a2",
   "metadata": {},
   "outputs": [],
   "source": [
    "# Create a Series from entries in the points column, but convert the entries to strings. Hint: strings are str in native Python.\n",
    "points_string = reviews.points.astype('str')"
   ]
  },
  {
   "cell_type": "code",
   "execution_count": null,
   "id": "8ef4aa49",
   "metadata": {},
   "outputs": [],
   "source": [
    "# Sometimes the price column is null. How many reviews in the dataset are missing a price?\n",
    "missing_price = reviews[reviews.price.isnull()]\n",
    "n_missing_price = len(missing_price)"
   ]
  },
  {
   "cell_type": "code",
   "execution_count": null,
   "id": "7ab207be",
   "metadata": {},
   "outputs": [],
   "source": [
    "# What are the most common wine-producing regions? Create a Series counting the number of times each value occurs in the region_1 field. This field is often missing data, so replace missing values with Unknown. Sort in descending order. Your output should look something like this:\n",
    "# \n",
    "# Unknown                    21247\n",
    "# Napa Valley                 4480\n",
    "#                            ...  \n",
    "# Bardolino Superiore            1\n",
    "# Primitivo del Tarantino        1\n",
    "# Name: region_1, Length: 1230, dtype: int64\n",
    "reviews_per_region = reviews.region_1.fillna('Unknown').value_counts(ascending=False)"
   ]
  },
  {
   "cell_type": "markdown",
   "id": "192a62ab",
   "metadata": {},
   "source": [
    "# Renaming and Combining"
   ]
  },
  {
   "cell_type": "code",
   "execution_count": null,
   "id": "83042493",
   "metadata": {},
   "outputs": [],
   "source": [
    "# region_1 and region_2 are pretty uninformative names for locale columns in the dataset. Create a copy of reviews with these columns renamed to region and locale, respectively.\n",
    "renamed = reviews.rename(columns={'region_1' : 'region', 'region_2' : 'locale'})"
   ]
  },
  {
   "cell_type": "code",
   "execution_count": null,
   "id": "c11be5cd",
   "metadata": {},
   "outputs": [],
   "source": [
    "# Set the index name in the dataset to wines.\n",
    "reindexed = reviews.rename_axis('wines', axis='rows')"
   ]
  },
  {
   "cell_type": "code",
   "execution_count": null,
   "id": "1a2332cd",
   "metadata": {},
   "outputs": [],
   "source": [
    "# The Things on Reddit dataset includes product links from a selection of top-ranked forums (\"subreddits\") on reddit.com. Run the cell below to load a dataframe of products mentioned on the /r/gaming subreddit and another dataframe for products mentioned on the r//movies subreddit.\n",
    "gaming_products = pd.read_csv(\"data/top-things/top-things/reddits/g/gaming.csv\")\n",
    "gaming_products['subreddit'] = \"r/gaming\"\n",
    "movie_products = pd.read_csv(\"data/top-things/top-things/reddits/m/movies.csv\")\n",
    "movie_products['subreddit'] = \"r/movies\"\n",
    "\n",
    "# Create a DataFrame of products mentioned on either subreddit.\n",
    "combined_products = pd.concat([gaming_products, movie_products])"
   ]
  },
  {
   "cell_type": "code",
   "execution_count": null,
   "id": "16f7c058",
   "metadata": {},
   "outputs": [],
   "source": [
    "# The Powerlifting Database dataset on Kaggle includes one CSV table for powerlifting meets and a separate one for powerlifting competitors. Run the cell below to load these datasets into dataframes:\n",
    "powerlifting_meets = pd.read_csv(\"data/powerlifting-database/meets.csv\")\n",
    "powerlifting_competitors = pd.read_csv(\"data/powerlifting-database/openpowerlifting.csv\")\n",
    "\n",
    "# Both tables include references to a MeetID, a unique key for each meet (competition) included in the database. Using this, generate a dataset combining the two tables into one.\n",
    "left = powerlifting_meets.set_index('MeetID')\n",
    "right = powerlifting_competitors.set_index('MeetID')\n",
    "powerlifting_combined = left.join(right, lsuffix='_meets', rsuffix='competitors')"
   ]
  }
 ],
 "metadata": {
  "kernelspec": {
   "display_name": "challenge_qrt_311",
   "language": "python",
   "name": "python3"
  },
  "language_info": {
   "codemirror_mode": {
    "name": "ipython",
    "version": 3
   },
   "file_extension": ".py",
   "mimetype": "text/x-python",
   "name": "python",
   "nbconvert_exporter": "python",
   "pygments_lexer": "ipython3",
   "version": "3.11.11"
  }
 },
 "nbformat": 4,
 "nbformat_minor": 5
}
